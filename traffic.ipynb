{
  "nbformat": 4,
  "nbformat_minor": 0,
  "metadata": {
    "colab": {
      "name": "Untitled1.ipynb",
      "provenance": [],
      "collapsed_sections": []
    },
    "kernelspec": {
      "name": "python3",
      "display_name": "Python 3"
    }
  },
  "cells": [
    {
      "cell_type": "code",
      "metadata": {
        "id": "NELvIuxgVt6O",
        "colab_type": "code",
        "colab": {
          "base_uri": "https://localhost:8080/",
          "height": 432
        },
        "outputId": "4390fd3c-6e80-4c5b-db11-6de33120915d"
      },
      "source": [
        "import numpy as np # linear algebra\n",
        "import pandas as pd # data processing, CSV file I/O (e.g. pd.read_csv)\n",
        "import matplotlib.pyplot as plt # data visualization\n",
        "\n",
        "link = 'https://raw.githubusercontent.com/Mscizor/COMET-FamilyIncomeExpenditure/master/data_mmda_traffic_spatial.csv'\n",
        "\n",
        "# Central Question: What may cause incidents to occur more often? \n",
        "# Quesiton 1: Time (When do these incidents happen more?)\n",
        "# Question 2: Involved and Time (Does the type of vehicle affect if you'll get into accidents more?)\n",
        "# Question 3: City/Direction and Time (Where do these incidents happen more?)\n",
        "traffic_df = pd.read_csv(link)\n",
        "traffic_df.head()"
      ],
      "execution_count": null,
      "outputs": [
        {
          "output_type": "execute_result",
          "data": {
            "text/html": [
              "<div>\n",
              "<style scoped>\n",
              "    .dataframe tbody tr th:only-of-type {\n",
              "        vertical-align: middle;\n",
              "    }\n",
              "\n",
              "    .dataframe tbody tr th {\n",
              "        vertical-align: top;\n",
              "    }\n",
              "\n",
              "    .dataframe thead th {\n",
              "        text-align: right;\n",
              "    }\n",
              "</style>\n",
              "<table border=\"1\" class=\"dataframe\">\n",
              "  <thead>\n",
              "    <tr style=\"text-align: right;\">\n",
              "      <th></th>\n",
              "      <th>Date</th>\n",
              "      <th>Time</th>\n",
              "      <th>City</th>\n",
              "      <th>Location</th>\n",
              "      <th>Latitude</th>\n",
              "      <th>Longitude</th>\n",
              "      <th>Direction</th>\n",
              "      <th>Type</th>\n",
              "      <th>Lanes_Blocked</th>\n",
              "      <th>Involved</th>\n",
              "      <th>Tweet</th>\n",
              "      <th>Source</th>\n",
              "    </tr>\n",
              "  </thead>\n",
              "  <tbody>\n",
              "    <tr>\n",
              "      <th>0</th>\n",
              "      <td>8/20/2018</td>\n",
              "      <td>7:55 AM</td>\n",
              "      <td>Pasig City</td>\n",
              "      <td>ORTIGAS EMERALD</td>\n",
              "      <td>14.586343</td>\n",
              "      <td>121.061481</td>\n",
              "      <td>EB</td>\n",
              "      <td>VEHICULAR ACCIDENT</td>\n",
              "      <td>1.0</td>\n",
              "      <td>TAXI AND MC</td>\n",
              "      <td>MMDA ALERT: Vehicular accident at Ortigas Emer...</td>\n",
              "      <td>https://twitter.com/mmda/status/10313302019705...</td>\n",
              "    </tr>\n",
              "    <tr>\n",
              "      <th>1</th>\n",
              "      <td>8/20/2018</td>\n",
              "      <td>8:42 AM</td>\n",
              "      <td>Mandaluyong</td>\n",
              "      <td>EDSA GUADIX</td>\n",
              "      <td>14.589432</td>\n",
              "      <td>121.057243</td>\n",
              "      <td>NB</td>\n",
              "      <td>STALLED L300 DUE TO MECHANICAL PROBLEM</td>\n",
              "      <td>1.0</td>\n",
              "      <td>L300</td>\n",
              "      <td>MMDA ALERT: Stalled L300 due to mechanical pro...</td>\n",
              "      <td>https://twitter.com/mmda/status/10313462477459...</td>\n",
              "    </tr>\n",
              "    <tr>\n",
              "      <th>2</th>\n",
              "      <td>8/20/2018</td>\n",
              "      <td>9:13 AM</td>\n",
              "      <td>Makati City</td>\n",
              "      <td>EDSA ROCKWELL</td>\n",
              "      <td>14.559818</td>\n",
              "      <td>121.040737</td>\n",
              "      <td>SB</td>\n",
              "      <td>VEHICULAR ACCIDENT</td>\n",
              "      <td>1.0</td>\n",
              "      <td>SUV AND L300</td>\n",
              "      <td>MMDA ALERT: Vehicular accident at EDSA Rockwel...</td>\n",
              "      <td>https://twitter.com/mmda/status/10313589669896...</td>\n",
              "    </tr>\n",
              "    <tr>\n",
              "      <th>3</th>\n",
              "      <td>8/20/2018</td>\n",
              "      <td>8:42 AM</td>\n",
              "      <td>Mandaluyong</td>\n",
              "      <td>EDSA GUADIX</td>\n",
              "      <td>14.589432</td>\n",
              "      <td>121.057243</td>\n",
              "      <td>NB</td>\n",
              "      <td>STALLED L300 DUE TO MECHANICAL PROBLEM</td>\n",
              "      <td>1.0</td>\n",
              "      <td>L300</td>\n",
              "      <td>MMDA ALERT: Stalled L300 due to mechanical pro...</td>\n",
              "      <td>https://twitter.com/mmda/status/10313590696535...</td>\n",
              "    </tr>\n",
              "    <tr>\n",
              "      <th>4</th>\n",
              "      <td>8/20/2018</td>\n",
              "      <td>10:27 AM</td>\n",
              "      <td>San Juan</td>\n",
              "      <td>ORTIGAS CLUB FILIPINO</td>\n",
              "      <td>14.601846</td>\n",
              "      <td>121.046754</td>\n",
              "      <td>EB</td>\n",
              "      <td>VEHICULAR ACCIDENT</td>\n",
              "      <td>1.0</td>\n",
              "      <td>2 CARS</td>\n",
              "      <td>MMDA ALERT: Vehicular accident at Ortigas Club...</td>\n",
              "      <td>https://twitter.com/mmda/status/10313711248424...</td>\n",
              "    </tr>\n",
              "  </tbody>\n",
              "</table>\n",
              "</div>"
            ],
            "text/plain": [
              "        Date  ...                                             Source\n",
              "0  8/20/2018  ...  https://twitter.com/mmda/status/10313302019705...\n",
              "1  8/20/2018  ...  https://twitter.com/mmda/status/10313462477459...\n",
              "2  8/20/2018  ...  https://twitter.com/mmda/status/10313589669896...\n",
              "3  8/20/2018  ...  https://twitter.com/mmda/status/10313590696535...\n",
              "4  8/20/2018  ...  https://twitter.com/mmda/status/10313711248424...\n",
              "\n",
              "[5 rows x 12 columns]"
            ]
          },
          "metadata": {
            "tags": []
          },
          "execution_count": 33
        }
      ]
    },
    {
      "cell_type": "code",
      "metadata": {
        "id": "opevuiZ9wY9n",
        "colab_type": "code",
        "colab": {
          "base_uri": "https://localhost:8080/",
          "height": 432
        },
        "outputId": "b78c565c-3b18-404a-a8e7-cf947fdf9ab9"
      },
      "source": [
        "traffic_df['Date'] = pd.to_datetime(traffic_df['Date']) \n",
        "traffic_df.head()"
      ],
      "execution_count": null,
      "outputs": [
        {
          "output_type": "execute_result",
          "data": {
            "text/html": [
              "<div>\n",
              "<style scoped>\n",
              "    .dataframe tbody tr th:only-of-type {\n",
              "        vertical-align: middle;\n",
              "    }\n",
              "\n",
              "    .dataframe tbody tr th {\n",
              "        vertical-align: top;\n",
              "    }\n",
              "\n",
              "    .dataframe thead th {\n",
              "        text-align: right;\n",
              "    }\n",
              "</style>\n",
              "<table border=\"1\" class=\"dataframe\">\n",
              "  <thead>\n",
              "    <tr style=\"text-align: right;\">\n",
              "      <th></th>\n",
              "      <th>Date</th>\n",
              "      <th>Time</th>\n",
              "      <th>City</th>\n",
              "      <th>Location</th>\n",
              "      <th>Latitude</th>\n",
              "      <th>Longitude</th>\n",
              "      <th>Direction</th>\n",
              "      <th>Type</th>\n",
              "      <th>Lanes_Blocked</th>\n",
              "      <th>Involved</th>\n",
              "      <th>Tweet</th>\n",
              "      <th>Source</th>\n",
              "    </tr>\n",
              "  </thead>\n",
              "  <tbody>\n",
              "    <tr>\n",
              "      <th>0</th>\n",
              "      <td>2018-08-20</td>\n",
              "      <td>7:55 AM</td>\n",
              "      <td>Pasig City</td>\n",
              "      <td>ORTIGAS EMERALD</td>\n",
              "      <td>14.586343</td>\n",
              "      <td>121.061481</td>\n",
              "      <td>EB</td>\n",
              "      <td>VEHICULAR ACCIDENT</td>\n",
              "      <td>1.0</td>\n",
              "      <td>TAXI AND MC</td>\n",
              "      <td>MMDA ALERT: Vehicular accident at Ortigas Emer...</td>\n",
              "      <td>https://twitter.com/mmda/status/10313302019705...</td>\n",
              "    </tr>\n",
              "    <tr>\n",
              "      <th>1</th>\n",
              "      <td>2018-08-20</td>\n",
              "      <td>8:42 AM</td>\n",
              "      <td>Mandaluyong</td>\n",
              "      <td>EDSA GUADIX</td>\n",
              "      <td>14.589432</td>\n",
              "      <td>121.057243</td>\n",
              "      <td>NB</td>\n",
              "      <td>STALLED L300 DUE TO MECHANICAL PROBLEM</td>\n",
              "      <td>1.0</td>\n",
              "      <td>L300</td>\n",
              "      <td>MMDA ALERT: Stalled L300 due to mechanical pro...</td>\n",
              "      <td>https://twitter.com/mmda/status/10313462477459...</td>\n",
              "    </tr>\n",
              "    <tr>\n",
              "      <th>2</th>\n",
              "      <td>2018-08-20</td>\n",
              "      <td>9:13 AM</td>\n",
              "      <td>Makati City</td>\n",
              "      <td>EDSA ROCKWELL</td>\n",
              "      <td>14.559818</td>\n",
              "      <td>121.040737</td>\n",
              "      <td>SB</td>\n",
              "      <td>VEHICULAR ACCIDENT</td>\n",
              "      <td>1.0</td>\n",
              "      <td>SUV AND L300</td>\n",
              "      <td>MMDA ALERT: Vehicular accident at EDSA Rockwel...</td>\n",
              "      <td>https://twitter.com/mmda/status/10313589669896...</td>\n",
              "    </tr>\n",
              "    <tr>\n",
              "      <th>3</th>\n",
              "      <td>2018-08-20</td>\n",
              "      <td>8:42 AM</td>\n",
              "      <td>Mandaluyong</td>\n",
              "      <td>EDSA GUADIX</td>\n",
              "      <td>14.589432</td>\n",
              "      <td>121.057243</td>\n",
              "      <td>NB</td>\n",
              "      <td>STALLED L300 DUE TO MECHANICAL PROBLEM</td>\n",
              "      <td>1.0</td>\n",
              "      <td>L300</td>\n",
              "      <td>MMDA ALERT: Stalled L300 due to mechanical pro...</td>\n",
              "      <td>https://twitter.com/mmda/status/10313590696535...</td>\n",
              "    </tr>\n",
              "    <tr>\n",
              "      <th>4</th>\n",
              "      <td>2018-08-20</td>\n",
              "      <td>10:27 AM</td>\n",
              "      <td>San Juan</td>\n",
              "      <td>ORTIGAS CLUB FILIPINO</td>\n",
              "      <td>14.601846</td>\n",
              "      <td>121.046754</td>\n",
              "      <td>EB</td>\n",
              "      <td>VEHICULAR ACCIDENT</td>\n",
              "      <td>1.0</td>\n",
              "      <td>2 CARS</td>\n",
              "      <td>MMDA ALERT: Vehicular accident at Ortigas Club...</td>\n",
              "      <td>https://twitter.com/mmda/status/10313711248424...</td>\n",
              "    </tr>\n",
              "  </tbody>\n",
              "</table>\n",
              "</div>"
            ],
            "text/plain": [
              "        Date  ...                                             Source\n",
              "0 2018-08-20  ...  https://twitter.com/mmda/status/10313302019705...\n",
              "1 2018-08-20  ...  https://twitter.com/mmda/status/10313462477459...\n",
              "2 2018-08-20  ...  https://twitter.com/mmda/status/10313589669896...\n",
              "3 2018-08-20  ...  https://twitter.com/mmda/status/10313590696535...\n",
              "4 2018-08-20  ...  https://twitter.com/mmda/status/10313711248424...\n",
              "\n",
              "[5 rows x 12 columns]"
            ]
          },
          "metadata": {
            "tags": []
          },
          "execution_count": 34
        }
      ]
    },
    {
      "cell_type": "markdown",
      "metadata": {
        "id": "knG0TqC5Zt2W",
        "colab_type": "text"
      },
      "source": [
        "## Question 1: When do these incidents happen more?"
      ]
    },
    {
      "cell_type": "code",
      "metadata": {
        "id": "tzTZuLkPAsh-",
        "colab_type": "code",
        "colab": {
          "base_uri": "https://localhost:8080/",
          "height": 35
        },
        "outputId": "0507a281-6482-4ea9-8b15-d6d36ed92730"
      },
      "source": [
        "traffic_df['Time'] = traffic_df['Time'].astype('string')\n",
        "traffic_df.dropna(subset=['Time'], inplace=True)\n",
        "traffic_df['Time'].isnull().any()"
      ],
      "execution_count": null,
      "outputs": [
        {
          "output_type": "execute_result",
          "data": {
            "text/plain": [
              "False"
            ]
          },
          "metadata": {
            "tags": []
          },
          "execution_count": 35
        }
      ]
    },
    {
      "cell_type": "code",
      "metadata": {
        "id": "2vO3RgBeBcZG",
        "colab_type": "code",
        "colab": {
          "base_uri": "https://localhost:8080/",
          "height": 54
        },
        "outputId": "3612b500-1003-443f-bdcf-944fd5c3a6ba"
      },
      "source": [
        "def get_hour(str):\n",
        "  hour = 0\n",
        "  if str[-2:] == 'PM' or str[-4:] == 'PM M':\n",
        "    hour += 12\n",
        "  \n",
        "  if str[1] == ':' and str[:2] != '12':\n",
        "    hour += int(str[:1])\n",
        "  elif str[:2] != '12':\n",
        "    hour += int(str[:2])\n",
        "\n",
        "  return hour\n",
        "\n",
        "traffic_df.loc[:, 'Hour'] = traffic_df['Time'].apply(get_hour)\n",
        "traffic_df['Hour'].unique()"
      ],
      "execution_count": null,
      "outputs": [
        {
          "output_type": "execute_result",
          "data": {
            "text/plain": [
              "array([ 7,  8,  9, 10, 11, 12, 14, 16, 17, 18, 19, 20, 13, 15,  6,  0,  5,\n",
              "       21, 22, 23,  1,  3,  4,  2, 34])"
            ]
          },
          "metadata": {
            "tags": []
          },
          "execution_count": 56
        }
      ]
    },
    {
      "cell_type": "code",
      "metadata": {
        "id": "pmaHk40UZ_VI",
        "colab_type": "code",
        "colab": {
          "base_uri": "https://localhost:8080/",
          "height": 167
        },
        "outputId": "3d1c228b-3f44-4825-c2ef-a5ce57b72f65"
      },
      "source": [
        "traffic_df.loc[traffic_df['Hour'] == 34]"
      ],
      "execution_count": null,
      "outputs": [
        {
          "output_type": "execute_result",
          "data": {
            "text/html": [
              "<div>\n",
              "<style scoped>\n",
              "    .dataframe tbody tr th:only-of-type {\n",
              "        vertical-align: middle;\n",
              "    }\n",
              "\n",
              "    .dataframe tbody tr th {\n",
              "        vertical-align: top;\n",
              "    }\n",
              "\n",
              "    .dataframe thead th {\n",
              "        text-align: right;\n",
              "    }\n",
              "</style>\n",
              "<table border=\"1\" class=\"dataframe\">\n",
              "  <thead>\n",
              "    <tr style=\"text-align: right;\">\n",
              "      <th></th>\n",
              "      <th>Date</th>\n",
              "      <th>Time</th>\n",
              "      <th>City</th>\n",
              "      <th>Location</th>\n",
              "      <th>Latitude</th>\n",
              "      <th>Longitude</th>\n",
              "      <th>Direction</th>\n",
              "      <th>Type</th>\n",
              "      <th>Lanes_Blocked</th>\n",
              "      <th>Involved</th>\n",
              "      <th>Tweet</th>\n",
              "      <th>Source</th>\n",
              "      <th>Hour</th>\n",
              "      <th>Day_of_Week</th>\n",
              "    </tr>\n",
              "  </thead>\n",
              "  <tbody>\n",
              "    <tr>\n",
              "      <th>13547</th>\n",
              "      <td>2019-12-03</td>\n",
              "      <td>22:55 PM</td>\n",
              "      <td>Quezon City</td>\n",
              "      <td>EDSA SANTOLAN FLYOVER</td>\n",
              "      <td>14.609768</td>\n",
              "      <td>121.055583</td>\n",
              "      <td>NB</td>\n",
              "      <td>VEHICULAR ACCIDENT</td>\n",
              "      <td>1.0</td>\n",
              "      <td>SUV AND MC</td>\n",
              "      <td>MMDA ALERT: Vehicular accident at EDSA Santola...</td>\n",
              "      <td>https://twitter.com/mmda/status/12018924338411...</td>\n",
              "      <td>34</td>\n",
              "      <td>1</td>\n",
              "    </tr>\n",
              "  </tbody>\n",
              "</table>\n",
              "</div>"
            ],
            "text/plain": [
              "            Date      Time  ... Hour Day_of_Week\n",
              "13547 2019-12-03  22:55 PM  ...   34           1\n",
              "\n",
              "[1 rows x 14 columns]"
            ]
          },
          "metadata": {
            "tags": []
          },
          "execution_count": 58
        }
      ]
    },
    {
      "cell_type": "code",
      "metadata": {
        "id": "Dx3Gh4fJZ9Fi",
        "colab_type": "code",
        "colab": {
          "base_uri": "https://localhost:8080/",
          "height": 35
        },
        "outputId": "371a0c93-265d-4e5e-c1c6-9bd07f56fe47"
      },
      "source": [
        "traffic_df.loc[13547, 'Hour'] = 22\n",
        "len(traffic_df['Hour'].unique())"
      ],
      "execution_count": null,
      "outputs": [
        {
          "output_type": "execute_result",
          "data": {
            "text/plain": [
              "24"
            ]
          },
          "metadata": {
            "tags": []
          },
          "execution_count": 64
        }
      ]
    },
    {
      "cell_type": "code",
      "metadata": {
        "id": "ryyYZxn-_OSF",
        "colab_type": "code",
        "colab": {
          "base_uri": "https://localhost:8080/",
          "height": 695
        },
        "outputId": "609a057b-307d-442b-9838-21111fe42a70"
      },
      "source": [
        "traffic_df.loc[:, 'Day_of_Week'] = traffic_df['Date'].dt.weekday\n",
        "traffic_df.head()"
      ],
      "execution_count": null,
      "outputs": [
        {
          "output_type": "execute_result",
          "data": {
            "text/html": [
              "<div>\n",
              "<style scoped>\n",
              "    .dataframe tbody tr th:only-of-type {\n",
              "        vertical-align: middle;\n",
              "    }\n",
              "\n",
              "    .dataframe tbody tr th {\n",
              "        vertical-align: top;\n",
              "    }\n",
              "\n",
              "    .dataframe thead th {\n",
              "        text-align: right;\n",
              "    }\n",
              "</style>\n",
              "<table border=\"1\" class=\"dataframe\">\n",
              "  <thead>\n",
              "    <tr style=\"text-align: right;\">\n",
              "      <th></th>\n",
              "      <th>Date</th>\n",
              "      <th>Time</th>\n",
              "      <th>City</th>\n",
              "      <th>Location</th>\n",
              "      <th>Latitude</th>\n",
              "      <th>Longitude</th>\n",
              "      <th>Direction</th>\n",
              "      <th>Type</th>\n",
              "      <th>Lanes_Blocked</th>\n",
              "      <th>Involved</th>\n",
              "      <th>Tweet</th>\n",
              "      <th>Source</th>\n",
              "      <th>Hour</th>\n",
              "      <th>Day_of_Week</th>\n",
              "    </tr>\n",
              "  </thead>\n",
              "  <tbody>\n",
              "    <tr>\n",
              "      <th>0</th>\n",
              "      <td>2018-08-20</td>\n",
              "      <td>7:55 AM</td>\n",
              "      <td>Pasig City</td>\n",
              "      <td>ORTIGAS EMERALD</td>\n",
              "      <td>14.586343</td>\n",
              "      <td>121.061481</td>\n",
              "      <td>EB</td>\n",
              "      <td>VEHICULAR ACCIDENT</td>\n",
              "      <td>1.0</td>\n",
              "      <td>TAXI AND MC</td>\n",
              "      <td>MMDA ALERT: Vehicular accident at Ortigas Emer...</td>\n",
              "      <td>https://twitter.com/mmda/status/10313302019705...</td>\n",
              "      <td>7</td>\n",
              "      <td>0</td>\n",
              "    </tr>\n",
              "    <tr>\n",
              "      <th>1</th>\n",
              "      <td>2018-08-20</td>\n",
              "      <td>8:42 AM</td>\n",
              "      <td>Mandaluyong</td>\n",
              "      <td>EDSA GUADIX</td>\n",
              "      <td>14.589432</td>\n",
              "      <td>121.057243</td>\n",
              "      <td>NB</td>\n",
              "      <td>STALLED L300 DUE TO MECHANICAL PROBLEM</td>\n",
              "      <td>1.0</td>\n",
              "      <td>L300</td>\n",
              "      <td>MMDA ALERT: Stalled L300 due to mechanical pro...</td>\n",
              "      <td>https://twitter.com/mmda/status/10313462477459...</td>\n",
              "      <td>8</td>\n",
              "      <td>0</td>\n",
              "    </tr>\n",
              "    <tr>\n",
              "      <th>2</th>\n",
              "      <td>2018-08-20</td>\n",
              "      <td>9:13 AM</td>\n",
              "      <td>Makati City</td>\n",
              "      <td>EDSA ROCKWELL</td>\n",
              "      <td>14.559818</td>\n",
              "      <td>121.040737</td>\n",
              "      <td>SB</td>\n",
              "      <td>VEHICULAR ACCIDENT</td>\n",
              "      <td>1.0</td>\n",
              "      <td>SUV AND L300</td>\n",
              "      <td>MMDA ALERT: Vehicular accident at EDSA Rockwel...</td>\n",
              "      <td>https://twitter.com/mmda/status/10313589669896...</td>\n",
              "      <td>9</td>\n",
              "      <td>0</td>\n",
              "    </tr>\n",
              "    <tr>\n",
              "      <th>3</th>\n",
              "      <td>2018-08-20</td>\n",
              "      <td>8:42 AM</td>\n",
              "      <td>Mandaluyong</td>\n",
              "      <td>EDSA GUADIX</td>\n",
              "      <td>14.589432</td>\n",
              "      <td>121.057243</td>\n",
              "      <td>NB</td>\n",
              "      <td>STALLED L300 DUE TO MECHANICAL PROBLEM</td>\n",
              "      <td>1.0</td>\n",
              "      <td>L300</td>\n",
              "      <td>MMDA ALERT: Stalled L300 due to mechanical pro...</td>\n",
              "      <td>https://twitter.com/mmda/status/10313590696535...</td>\n",
              "      <td>8</td>\n",
              "      <td>0</td>\n",
              "    </tr>\n",
              "    <tr>\n",
              "      <th>4</th>\n",
              "      <td>2018-08-20</td>\n",
              "      <td>10:27 AM</td>\n",
              "      <td>San Juan</td>\n",
              "      <td>ORTIGAS CLUB FILIPINO</td>\n",
              "      <td>14.601846</td>\n",
              "      <td>121.046754</td>\n",
              "      <td>EB</td>\n",
              "      <td>VEHICULAR ACCIDENT</td>\n",
              "      <td>1.0</td>\n",
              "      <td>2 CARS</td>\n",
              "      <td>MMDA ALERT: Vehicular accident at Ortigas Club...</td>\n",
              "      <td>https://twitter.com/mmda/status/10313711248424...</td>\n",
              "      <td>10</td>\n",
              "      <td>0</td>\n",
              "    </tr>\n",
              "  </tbody>\n",
              "</table>\n",
              "</div>"
            ],
            "text/plain": [
              "        Date      Time  ... Hour Day_of_Week\n",
              "0 2018-08-20   7:55 AM  ...    7           0\n",
              "1 2018-08-20   8:42 AM  ...    8           0\n",
              "2 2018-08-20   9:13 AM  ...    9           0\n",
              "3 2018-08-20   8:42 AM  ...    8           0\n",
              "4 2018-08-20  10:27 AM  ...   10           0\n",
              "\n",
              "[5 rows x 14 columns]"
            ]
          },
          "metadata": {
            "tags": []
          },
          "execution_count": 37
        }
      ]
    },
    {
      "cell_type": "markdown",
      "metadata": {
        "id": "pjaeKbzEabX-",
        "colab_type": "text"
      },
      "source": [
        "#### One Year Overview\n"
      ]
    },
    {
      "cell_type": "markdown",
      "metadata": {
        "id": "SdaSB2AVwiVU",
        "colab_type": "text"
      },
      "source": [
        "-- add graphs and text"
      ]
    },
    {
      "cell_type": "code",
      "metadata": {
        "id": "T0d3cFkBbr2j",
        "colab_type": "code",
        "colab": {
          "base_uri": "https://localhost:8080/",
          "height": 297
        },
        "outputId": "76d4de0a-26cf-4845-8bbd-146066a12351"
      },
      "source": [
        "traffic_df.groupby(['Date']).size().plot()"
      ],
      "execution_count": null,
      "outputs": [
        {
          "output_type": "execute_result",
          "data": {
            "text/plain": [
              "<matplotlib.axes._subplots.AxesSubplot at 0x7f5918a88b00>"
            ]
          },
          "metadata": {
            "tags": []
          },
          "execution_count": 72
        },
        {
          "output_type": "display_data",
          "data": {
            "image/png": "[encoded data removed]",
            "text/plain": [
              "<Figure size 432x288 with 1 Axes>"
            ]
          },
          "metadata": {
            "tags": [],
            "needs_background": "light"
          }
        }
      ]
    },
    {
      "cell_type": "code",
      "metadata": {
        "id": "o2rfH_mocCf1",
        "colab_type": "code",
        "colab": {
          "base_uri": "https://localhost:8080/",
          "height": 441
        },
        "outputId": "e18e192f-dc76-475b-f064-34d3d7203700"
      },
      "source": [
        "year_traffic_df = traffic_df.loc[traffic_df['Date'] < '2019-08-20']\n",
        "year_traffic_df.tail(3)"
      ],
      "execution_count": null,
      "outputs": [
        {
          "output_type": "execute_result",
          "data": {
            "text/html": [
              "<div>\n",
              "<style scoped>\n",
              "    .dataframe tbody tr th:only-of-type {\n",
              "        vertical-align: middle;\n",
              "    }\n",
              "\n",
              "    .dataframe tbody tr th {\n",
              "        vertical-align: top;\n",
              "    }\n",
              "\n",
              "    .dataframe thead th {\n",
              "        text-align: right;\n",
              "    }\n",
              "</style>\n",
              "<table border=\"1\" class=\"dataframe\">\n",
              "  <thead>\n",
              "    <tr style=\"text-align: right;\">\n",
              "      <th></th>\n",
              "      <th>Date</th>\n",
              "      <th>Time</th>\n",
              "      <th>City</th>\n",
              "      <th>Location</th>\n",
              "      <th>Latitude</th>\n",
              "      <th>Longitude</th>\n",
              "      <th>Direction</th>\n",
              "      <th>Type</th>\n",
              "      <th>Lanes_Blocked</th>\n",
              "      <th>Involved</th>\n",
              "      <th>Tweet</th>\n",
              "      <th>Source</th>\n",
              "      <th>Hour</th>\n",
              "      <th>Day_of_Week</th>\n",
              "    </tr>\n",
              "  </thead>\n",
              "  <tbody>\n",
              "    <tr>\n",
              "      <th>10732</th>\n",
              "      <td>2019-08-19</td>\n",
              "      <td>7:32 PM</td>\n",
              "      <td>Quezon City</td>\n",
              "      <td>EDSA TIMOG FLYOVER</td>\n",
              "      <td>14.632910</td>\n",
              "      <td>121.044944</td>\n",
              "      <td>NB</td>\n",
              "      <td>STALLED ARMORED VAN DUE TO MECHANICAL PROBLEM</td>\n",
              "      <td>1.0</td>\n",
              "      <td>ARMORED VAN</td>\n",
              "      <td>MMDA ALERT: Stalled Armored van due to mechani...</td>\n",
              "      <td>https://twitter.com/mmda/status/11634166837231...</td>\n",
              "      <td>19</td>\n",
              "      <td>0</td>\n",
              "    </tr>\n",
              "    <tr>\n",
              "      <th>10733</th>\n",
              "      <td>2019-08-19</td>\n",
              "      <td>8:32 PM</td>\n",
              "      <td>Mandaluyong</td>\n",
              "      <td>EDSA SHAW TUNNEL</td>\n",
              "      <td>14.581153</td>\n",
              "      <td>121.053565</td>\n",
              "      <td>NB</td>\n",
              "      <td>NaN</td>\n",
              "      <td>1.0</td>\n",
              "      <td>PICK-UP</td>\n",
              "      <td>MMDA ALERT: Stalled Pick-up due to mechanical ...</td>\n",
              "      <td>https://twitter.com/mmda/status/11634307352245...</td>\n",
              "      <td>20</td>\n",
              "      <td>0</td>\n",
              "    </tr>\n",
              "    <tr>\n",
              "      <th>10734</th>\n",
              "      <td>2019-08-19</td>\n",
              "      <td>11:31 PM</td>\n",
              "      <td>Quezon City</td>\n",
              "      <td>MINDANAO AVE TUNNEL</td>\n",
              "      <td>14.690509</td>\n",
              "      <td>121.027812</td>\n",
              "      <td>SB</td>\n",
              "      <td>STALLED CLOSED VAN DUE TO MECHANICAL PROBLEM</td>\n",
              "      <td>1.0</td>\n",
              "      <td>CLOSED VAN</td>\n",
              "      <td>MMDA ALERT: Stalled closed van due to mechanic...</td>\n",
              "      <td>https://twitter.com/mmda/status/11634801419572...</td>\n",
              "      <td>23</td>\n",
              "      <td>0</td>\n",
              "    </tr>\n",
              "  </tbody>\n",
              "</table>\n",
              "</div>"
            ],
            "text/plain": [
              "            Date      Time  ... Hour Day_of_Week\n",
              "10732 2019-08-19   7:32 PM  ...   19           0\n",
              "10733 2019-08-19   8:32 PM  ...   20           0\n",
              "10734 2019-08-19  11:31 PM  ...   23           0\n",
              "\n",
              "[3 rows x 14 columns]"
            ]
          },
          "metadata": {
            "tags": []
          },
          "execution_count": 106
        }
      ]
    },
    {
      "cell_type": "code",
      "metadata": {
        "id": "l99sY-TUeigO",
        "colab_type": "code",
        "colab": {
          "base_uri": "https://localhost:8080/",
          "height": 632
        },
        "outputId": "5a4f694f-6302-4719-89cf-0a7fcb7c6b8a"
      },
      "source": [
        "year_traffic_df.loc[:, 'Week'] = year_traffic_df.loc[:, 'Date'] - year_traffic_df.loc[0, 'Date']\n",
        "def week(timedelta):\n",
        "  return timedelta.days // 7\n",
        "year_traffic_df.loc[:, 'Week'] = year_traffic_df['Week'].apply(week)\n",
        "year_traffic_df.tail(5)"
      ],
      "execution_count": null,
      "outputs": [
        {
          "output_type": "stream",
          "text": [
            "/usr/local/lib/python3.6/dist-packages/pandas/core/indexing.py:966: SettingWithCopyWarning: \n",
            "A value is trying to be set on a copy of a slice from a DataFrame.\n",
            "Try using .loc[row_indexer,col_indexer] = value instead\n",
            "\n",
            "See the caveats in the documentation: https://pandas.pydata.org/pandas-docs/stable/user_guide/indexing.html#returning-a-view-versus-a-copy\n",
            "  self.obj[item] = s\n"
          ],
          "name": "stderr"
        },
        {
          "output_type": "execute_result",
          "data": {
            "text/html": [
              "<div>\n",
              "<style scoped>\n",
              "    .dataframe tbody tr th:only-of-type {\n",
              "        vertical-align: middle;\n",
              "    }\n",
              "\n",
              "    .dataframe tbody tr th {\n",
              "        vertical-align: top;\n",
              "    }\n",
              "\n",
              "    .dataframe thead th {\n",
              "        text-align: right;\n",
              "    }\n",
              "</style>\n",
              "<table border=\"1\" class=\"dataframe\">\n",
              "  <thead>\n",
              "    <tr style=\"text-align: right;\">\n",
              "      <th></th>\n",
              "      <th>Date</th>\n",
              "      <th>Time</th>\n",
              "      <th>City</th>\n",
              "      <th>Location</th>\n",
              "      <th>Latitude</th>\n",
              "      <th>Longitude</th>\n",
              "      <th>Direction</th>\n",
              "      <th>Type</th>\n",
              "      <th>Lanes_Blocked</th>\n",
              "      <th>Involved</th>\n",
              "      <th>Tweet</th>\n",
              "      <th>Source</th>\n",
              "      <th>Hour</th>\n",
              "      <th>Day_of_Week</th>\n",
              "      <th>Week</th>\n",
              "    </tr>\n",
              "  </thead>\n",
              "  <tbody>\n",
              "    <tr>\n",
              "      <th>10730</th>\n",
              "      <td>2019-08-19</td>\n",
              "      <td>6:39 PM</td>\n",
              "      <td>Quezon City</td>\n",
              "      <td>COMMONWEALTH TANDANG SORA</td>\n",
              "      <td>14.663710</td>\n",
              "      <td>121.068008</td>\n",
              "      <td>EB</td>\n",
              "      <td>VEHICULAR ACCIDENT</td>\n",
              "      <td>1.0</td>\n",
              "      <td>CAR AND TRUCK</td>\n",
              "      <td>MMDA ALERT: Vehicular accident at Commonwealth...</td>\n",
              "      <td>https://twitter.com/mmda/status/11634036857512...</td>\n",
              "      <td>18</td>\n",
              "      <td>0</td>\n",
              "      <td>52</td>\n",
              "    </tr>\n",
              "    <tr>\n",
              "      <th>10731</th>\n",
              "      <td>2019-08-19</td>\n",
              "      <td>7:30 PM</td>\n",
              "      <td>Mandaluyong</td>\n",
              "      <td>EDSA SHAW SPLIT</td>\n",
              "      <td>14.581153</td>\n",
              "      <td>121.053565</td>\n",
              "      <td>NB</td>\n",
              "      <td>VEHICULAR ACCIDENT</td>\n",
              "      <td>1.0</td>\n",
              "      <td>CAR AND BUS</td>\n",
              "      <td>MMDA ALERT: Vehicular accident at EDSA NB, Sha...</td>\n",
              "      <td>https://twitter.com/mmda/status/11634165210009...</td>\n",
              "      <td>19</td>\n",
              "      <td>0</td>\n",
              "      <td>52</td>\n",
              "    </tr>\n",
              "    <tr>\n",
              "      <th>10732</th>\n",
              "      <td>2019-08-19</td>\n",
              "      <td>7:32 PM</td>\n",
              "      <td>Quezon City</td>\n",
              "      <td>EDSA TIMOG FLYOVER</td>\n",
              "      <td>14.632910</td>\n",
              "      <td>121.044944</td>\n",
              "      <td>NB</td>\n",
              "      <td>STALLED ARMORED VAN DUE TO MECHANICAL PROBLEM</td>\n",
              "      <td>1.0</td>\n",
              "      <td>ARMORED VAN</td>\n",
              "      <td>MMDA ALERT: Stalled Armored van due to mechani...</td>\n",
              "      <td>https://twitter.com/mmda/status/11634166837231...</td>\n",
              "      <td>19</td>\n",
              "      <td>0</td>\n",
              "      <td>52</td>\n",
              "    </tr>\n",
              "    <tr>\n",
              "      <th>10733</th>\n",
              "      <td>2019-08-19</td>\n",
              "      <td>8:32 PM</td>\n",
              "      <td>Mandaluyong</td>\n",
              "      <td>EDSA SHAW TUNNEL</td>\n",
              "      <td>14.581153</td>\n",
              "      <td>121.053565</td>\n",
              "      <td>NB</td>\n",
              "      <td>NaN</td>\n",
              "      <td>1.0</td>\n",
              "      <td>PICK-UP</td>\n",
              "      <td>MMDA ALERT: Stalled Pick-up due to mechanical ...</td>\n",
              "      <td>https://twitter.com/mmda/status/11634307352245...</td>\n",
              "      <td>20</td>\n",
              "      <td>0</td>\n",
              "      <td>52</td>\n",
              "    </tr>\n",
              "    <tr>\n",
              "      <th>10734</th>\n",
              "      <td>2019-08-19</td>\n",
              "      <td>11:31 PM</td>\n",
              "      <td>Quezon City</td>\n",
              "      <td>MINDANAO AVE TUNNEL</td>\n",
              "      <td>14.690509</td>\n",
              "      <td>121.027812</td>\n",
              "      <td>SB</td>\n",
              "      <td>STALLED CLOSED VAN DUE TO MECHANICAL PROBLEM</td>\n",
              "      <td>1.0</td>\n",
              "      <td>CLOSED VAN</td>\n",
              "      <td>MMDA ALERT: Stalled closed van due to mechanic...</td>\n",
              "      <td>https://twitter.com/mmda/status/11634801419572...</td>\n",
              "      <td>23</td>\n",
              "      <td>0</td>\n",
              "      <td>52</td>\n",
              "    </tr>\n",
              "  </tbody>\n",
              "</table>\n",
              "</div>"
            ],
            "text/plain": [
              "            Date      Time         City  ... Hour  Day_of_Week  Week\n",
              "10730 2019-08-19   6:39 PM  Quezon City  ...   18            0    52\n",
              "10731 2019-08-19   7:30 PM  Mandaluyong  ...   19            0    52\n",
              "10732 2019-08-19   7:32 PM  Quezon City  ...   19            0    52\n",
              "10733 2019-08-19   8:32 PM  Mandaluyong  ...   20            0    52\n",
              "10734 2019-08-19  11:31 PM  Quezon City  ...   23            0    52\n",
              "\n",
              "[5 rows x 15 columns]"
            ]
          },
          "metadata": {
            "tags": []
          },
          "execution_count": 121
        }
      ]
    },
    {
      "cell_type": "code",
      "metadata": {
        "id": "OHAO6lWGf9lO",
        "colab_type": "code",
        "colab": {
          "base_uri": "https://localhost:8080/",
          "height": 279
        },
        "outputId": "050da2fd-2a0e-4e3e-8b07-fb6ad3d16e42"
      },
      "source": [
        "year_traffic_df.groupby(['Week']).size().plot()\n",
        "\n",
        "lines = [x for x in range(4, 52, 4)]\n",
        "for line in lines:\n",
        "  plt.axvline(x=line) #???? HELP"
      ],
      "execution_count": null,
      "outputs": [
        {
          "output_type": "display_data",
          "data": {
            "image/png": "[encoded data removed]",
            "text/plain": [
              "<Figure size 432x288 with 1 Axes>"
            ]
          },
          "metadata": {
            "tags": [],
            "needs_background": "light"
          }
        }
      ]
    },
    {
      "cell_type": "markdown",
      "metadata": {
        "id": "qbjEFRK64hpe",
        "colab_type": "text"
      },
      "source": [
        "#### Day of the Week"
      ]
    },
    {
      "cell_type": "code",
      "metadata": {
        "id": "srbU60b6UnEj",
        "colab_type": "code",
        "colab": {
          "base_uri": "https://localhost:8080/",
          "height": 298
        },
        "outputId": "56f9edd1-826f-429c-8c05-97473e3c0f7f"
      },
      "source": [
        "traffic_df.groupby(['Day_of_Week']).size().plot() # Map? Make x ticks clearer"
      ],
      "execution_count": null,
      "outputs": [
        {
          "output_type": "execute_result",
          "data": {
            "text/plain": [
              "<matplotlib.axes._subplots.AxesSubplot at 0x7f591459d198>"
            ]
          },
          "metadata": {
            "tags": []
          },
          "execution_count": 129
        },
        {
          "output_type": "display_data",
          "data": {
            "image/png": "[encoded data removed]",
            "text/plain": [
              "<Figure size 432x288 with 1 Axes>"
            ]
          },
          "metadata": {
            "tags": [],
            "needs_background": "light"
          }
        }
      ]
    },
    {
      "cell_type": "markdown",
      "metadata": {
        "id": "C5xxQ1PNagHN",
        "colab_type": "text"
      },
      "source": [
        "#### Hourly"
      ]
    },
    {
      "cell_type": "code",
      "metadata": {
        "id": "MZI5_-B8ZNiM",
        "colab_type": "code",
        "colab": {
          "base_uri": "https://localhost:8080/",
          "height": 297
        },
        "outputId": "de8f7a2b-89ca-481d-9c06-53ab8a4c432e"
      },
      "source": [
        "traffic_df.groupby(['Hour']).size().plot()\n",
        "# Change to average amount of incidents per day in one hour instead?\n",
        "\n",
        "plt.axvline(x=7) # 7 AM\n",
        "plt.axvline(x=15) # 3 PM"
      ],
      "execution_count": null,
      "outputs": [
        {
          "output_type": "execute_result",
          "data": {
            "text/plain": [
              "<matplotlib.lines.Line2D at 0x7f5915edcb70>"
            ]
          },
          "metadata": {
            "tags": []
          },
          "execution_count": 130
        },
        {
          "output_type": "display_data",
          "data": {
            "image/png": "[encoded data removed]",
            "text/plain": [
              "<Figure size 432x288 with 1 Axes>"
            ]
          },
          "metadata": {
            "tags": [],
            "needs_background": "light"
          }
        }
      ]
    },
    {
      "cell_type": "markdown",
      "metadata": {
        "id": "KZTQwrCFwjKq",
        "colab_type": "text"
      },
      "source": [
        "-- add graphs and text"
      ]
    },
    {
      "cell_type": "markdown",
      "metadata": {
        "id": "jvB0EIciZywA",
        "colab_type": "text"
      },
      "source": [
        "## Question 2: Does the type of vehicle you're in affect if you'll get into accidents?"
      ]
    },
    {
      "cell_type": "markdown",
      "metadata": {
        "id": "xKNM8VKIazmU",
        "colab_type": "text"
      },
      "source": [
        "#### Type of Vehicle to Accidents"
      ]
    },
    {
      "cell_type": "code",
      "metadata": {
        "id": "PY5GIXdAgBkI",
        "colab_type": "code",
        "colab": {}
      },
      "source": [
        "traffic_df = pd.read_csv(link)\n",
        "traffic_df.dropna(subset=['Involved', 'Type'])\n",
        "involved_df = traffic_df['Involved'].str.upper()\n",
        "\n",
        "\n",
        "inv_motorcycle = involved_df.str.contains('MOTOR|CYCLE|BIKE')\n",
        "inv_four_public = involved_df.str.contains('^UV|EXPRESS|TAXI|PUJ|JEEP|FX|MULTICAB|AMBULANCE')\n",
        "inv_four_private = involved_df.str.contains('MC|CAR|VIOS|HONDA CIVIC|INNOVA|VAN|STAREX|WIGO|MONTERO|PAJERO|HI-ACE|ACE|SUV|AUV|SCHOOL')\n",
        "inv_truck = involved_df.str.contains('TRUCK|TRUNCK|TRUK|TUCK|CANTER|L300|PICK|MIXER|TANKER|TRAILER|REVO|ELF|HI-LUX|LUX')\n",
        "inv_bus = involved_df.str.contains('BUS|COASTER|METROLINK')\n",
        "\n",
        "traffic_df['Bus'] = np.where(inv_bus, 1, 0)\n",
        "traffic_df['FourWheeled_Public'] = np.where(inv_four_public, 1, 0)\n",
        "traffic_df['FourWheeled_Private'] = np.where(inv_four_private, 1, 0)\n",
        "traffic_df['Truck'] = np.where(inv_truck, 1, 0)\n",
        "traffic_df['Motorcycle'] = np.where(inv_motorcycle, 1, 0)"
      ],
      "execution_count": null,
      "outputs": []
    },
    {
      "cell_type": "markdown",
      "metadata": {
        "id": "QjV9nztuww45",
        "colab_type": "text"
      },
      "source": [
        "-- add graphs and text"
      ]
    },
    {
      "cell_type": "code",
      "metadata": {
        "id": "y8OaW-YLyqKf",
        "colab_type": "code",
        "colab": {
          "base_uri": "https://localhost:8080/",
          "height": 272
        },
        "outputId": "c5f6e1cc-0af4-432d-9056-b65e7aa565cc"
      },
      "source": [
        "plt.bar(1, traffic_df['Bus'].sum(), label='Bus')\n",
        "plt.bar(2, traffic_df['FourWheeled_Public'].sum(), label='4 Wheel Public')\n",
        "plt.bar(3, traffic_df['FourWheeled_Private'].sum(), label='4 Wheel Private')\n",
        "plt.bar(4, traffic_df['Truck'].sum(), label='Truck')\n",
        "plt.bar(5, traffic_df['Motorcycle'].sum(), label='Motorcycle')\n",
        "plt.xticks(ticks=[])\n",
        "plt.legend()"
      ],
      "execution_count": null,
      "outputs": [
        {
          "output_type": "execute_result",
          "data": {
            "text/plain": [
              "<matplotlib.legend.Legend at 0x7f5912dd6ef0>"
            ]
          },
          "metadata": {
            "tags": []
          },
          "execution_count": 167
        },
        {
          "output_type": "display_data",
          "data": {
            "image/png": "[encoded data removed]",
            "text/plain": [
              "<Figure size 432x288 with 1 Axes>"
            ]
          },
          "metadata": {
            "tags": [],
            "needs_background": "light"
          }
        }
      ]
    },
    {
      "cell_type": "markdown",
      "metadata": {
        "id": "_IMCNWxVa6ur",
        "colab_type": "text"
      },
      "source": [
        "#### Checking type of Incident"
      ]
    },
    {
      "cell_type": "code",
      "metadata": {
        "id": "G_sbfHBJCraY",
        "colab_type": "code",
        "colab": {
          "base_uri": "https://localhost:8080/",
          "height": 166
        },
        "outputId": "a0371389-c765-460a-ebd2-c17805684e34"
      },
      "source": [
        "type_df = traffic_df['Type'].str.upper()\n",
        "\n",
        "type_e = type_df.str.contains('RALLY|PARADE|SALE|WREATH|MARCH|CAMPAIGN|ACTIVITY|PHOTO|CARAVAN')\n",
        "type_sa = type_df.str.contains('SELF ACCIDENT')\n",
        "type_va = type_df.str.contains('VEHICULAR|ACCIDENT|FIRE')\n",
        "type_har = type_df.str.contains('HIT AND RUN')\n",
        "type_d = type_df.str.contains('ROAD|CLOSURE|WORK|DECLOGGING|PROJECT|DPWH|OPERATION|MMDA|WATER|CEMENT|LANE|MAYNILAD|DRAINAGE|DISMANTLING|MANHOLE|REPAIR|SPILL|TRAFFIC|FALLEN|BOX')\n",
        "type_mc = type_df.str.contains('MULTIPLE|COLLISION')\n",
        "type_si = type_df.str.contains('SHOOTING|STABBING')\n",
        "type_s = type_df.str.contains('STALL')\n",
        "\n",
        "traffic_df['Type'] = np.where(type_va, 'VEHICULAR ACCIDENT OR FIRE',\n",
        "                              np.where(type_s, 'STALLED VEHICLE', \n",
        "                                        np.where(type_mc, 'MULTIPLE COLLISION',\n",
        "                                                  np.where(type_sa, 'SELF ACCIDENT', \n",
        "                                                          np.where(type_e, \"RALLY, PARADE OR MISC. PUBLIC EVENT\", \n",
        "                                                                  np.where(type_har, \"HIT AND RUN\",\n",
        "                                                                          np.where(type_si, 'SHOOTING/STABBING INCIDENT',\n",
        "                                                                                  np.where(type_d, 'ROAD WORK/CLOSURE', type_df))))))))\n",
        "traffic_df['Type'].value_counts()"
      ],
      "execution_count": null,
      "outputs": [
        {
          "output_type": "execute_result",
          "data": {
            "text/plain": [
              "VEHICULAR ACCIDENT OR FIRE             9823\n",
              "STALLED VEHICLE                        3151\n",
              "MULTIPLE COLLISION                      564\n",
              "ROAD WORK/CLOSURE                       259\n",
              "RALLY, PARADE OR MISC. PUBLIC EVENT     122\n",
              "HIT AND RUN                              32\n",
              "SHOOTING/STABBING INCIDENT               16\n",
              "Name: Type, dtype: int64"
            ]
          },
          "metadata": {
            "tags": []
          },
          "execution_count": 48
        }
      ]
    },
    {
      "cell_type": "markdown",
      "metadata": {
        "id": "UGL2n6rKxBjB",
        "colab_type": "text"
      },
      "source": [
        "-- add graphs and text"
      ]
    },
    {
      "cell_type": "code",
      "metadata": {
        "id": "yC2C0fsKfeKG",
        "colab_type": "code",
        "colab": {}
      },
      "source": [
        "# Code to plot vehicular accidents/stalled vehicle for the categories of vehicles"
      ],
      "execution_count": null,
      "outputs": []
    },
    {
      "cell_type": "markdown",
      "metadata": {
        "id": "RT1ekvBdZ4-G",
        "colab_type": "text"
      },
      "source": [
        "## Question 3: Where do these incidents happen more often?"
      ]
    },
    {
      "cell_type": "markdown",
      "metadata": {
        "id": "_ehK4lZmbA1O",
        "colab_type": "text"
      },
      "source": [
        "#### City"
      ]
    },
    {
      "cell_type": "code",
      "metadata": {
        "id": "1cTKvTU0A5RU",
        "colab_type": "code",
        "colab": {
          "base_uri": "https://localhost:8080/",
          "height": 92
        },
        "outputId": "6b004d97-c1a3-4a0f-c9c9-8d3ba36077b1"
      },
      "source": [
        "traffic_df['City'].unique()"
      ],
      "execution_count": null,
      "outputs": [
        {
          "output_type": "execute_result",
          "data": {
            "text/plain": [
              "array(['Pasig City', 'Mandaluyong', 'Makati City', 'San Juan',\n",
              "       'Quezon City', 'Marikina', 'Pasay City', 'ParaÃ±aque', 'Manila',\n",
              "       nan, 'Kalookan City', 'Malabon', 'Taguig', 'Navotas', 'Valenzuela'],\n",
              "      dtype=object)"
            ]
          },
          "metadata": {
            "tags": []
          },
          "execution_count": 34
        }
      ]
    },
    {
      "cell_type": "code",
      "metadata": {
        "id": "QuGae-8fA-EV",
        "colab_type": "code",
        "colab": {
          "base_uri": "https://localhost:8080/",
          "height": 92
        },
        "outputId": "5e34b322-7024-430d-dcaf-0627830a7143"
      },
      "source": [
        "traffic_df.dropna(subset=['City'], inplace=True)\n",
        "traffic_df['City'].unique()"
      ],
      "execution_count": null,
      "outputs": [
        {
          "output_type": "execute_result",
          "data": {
            "text/plain": [
              "array(['Pasig City', 'Mandaluyong', 'Makati City', 'San Juan',\n",
              "       'Quezon City', 'Marikina', 'Pasay City', 'ParaÃ±aque', 'Manila',\n",
              "       'Kalookan City', 'Malabon', 'Taguig', 'Navotas', 'Valenzuela'],\n",
              "      dtype=object)"
            ]
          },
          "metadata": {
            "tags": []
          },
          "execution_count": 40
        }
      ]
    },
    {
      "cell_type": "code",
      "metadata": {
        "id": "SoI9wVq8kC1T",
        "colab_type": "code",
        "colab": {
          "base_uri": "https://localhost:8080/",
          "height": 355
        },
        "outputId": "5f916df8-8e2a-4e50-cf8d-6f4e447cd9c9"
      },
      "source": [
        "traffic_df.groupby(['City']).size().plot(kind='bar')"
      ],
      "execution_count": null,
      "outputs": [
        {
          "output_type": "execute_result",
          "data": {
            "text/plain": [
              "<matplotlib.axes._subplots.AxesSubplot at 0x7f591427ff60>"
            ]
          },
          "metadata": {
            "tags": []
          },
          "execution_count": 136
        },
        {
          "output_type": "display_data",
          "data": {
            "image/png": "[encoded data removed]",
            "text/plain": [
              "<Figure size 432x288 with 1 Axes>"
            ]
          },
          "metadata": {
            "tags": [],
            "needs_background": "light"
          }
        }
      ]
    },
    {
      "cell_type": "markdown",
      "metadata": {
        "id": "BJ4yMtEWwynv",
        "colab_type": "text"
      },
      "source": [
        "-- add graphs and text"
      ]
    },
    {
      "cell_type": "markdown",
      "metadata": {
        "id": "USQholE7bFL-",
        "colab_type": "text"
      },
      "source": [
        "#### Direction"
      ]
    },
    {
      "cell_type": "code",
      "metadata": {
        "id": "WR6po0qiAcuX",
        "colab_type": "code",
        "colab": {
          "base_uri": "https://localhost:8080/",
          "height": 54
        },
        "outputId": "1b02bce0-2b3e-45ed-a67e-7138d896113d"
      },
      "source": [
        "traffic_df = pd.read_csv(link)\n",
        "traffic_df['Direction'].unique()"
      ],
      "execution_count": null,
      "outputs": [
        {
          "output_type": "execute_result",
          "data": {
            "text/plain": [
              "array(['EB', 'NB', 'SB', 'EB.', 'WB', 'DAR', nan, 'CLOSED', 'PAX',\n",
              "       'CLARA'], dtype=object)"
            ]
          },
          "metadata": {
            "tags": []
          },
          "execution_count": 143
        }
      ]
    },
    {
      "cell_type": "code",
      "metadata": {
        "id": "LUjwcDwlBo9K",
        "colab_type": "code",
        "colab": {
          "base_uri": "https://localhost:8080/",
          "height": 35
        },
        "outputId": "965615a5-b518-4252-9967-8350dd72544d"
      },
      "source": [
        "traffic_df.dropna(subset=['Direction'], inplace=True)\n",
        "traffic_df['Direction'].isnull().any()"
      ],
      "execution_count": null,
      "outputs": [
        {
          "output_type": "execute_result",
          "data": {
            "text/plain": [
              "False"
            ]
          },
          "metadata": {
            "tags": []
          },
          "execution_count": 144
        }
      ]
    },
    {
      "cell_type": "code",
      "metadata": {
        "id": "5nQA7VDXAaD5",
        "colab_type": "code",
        "colab": {
          "base_uri": "https://localhost:8080/",
          "height": 72
        },
        "outputId": "e7c3e508-cb7f-45c2-c28a-24b7c507f98c"
      },
      "source": [
        "traffic_df['Direction'] = traffic_df['Direction'].map({'NB': 'NB', \n",
        "                                                      'EB': 'EB', \n",
        "                                                      'EB.': 'EB', \n",
        "                                                      'WB': 'WB', \n",
        "                                                      'SB': 'SB',\n",
        "                                                      'DAR': 'DAR',\n",
        "                                                      'CLOSED': 'CLOSED',\n",
        "                                                      'PAX': 'PAX',\n",
        "                                                      'CLARA': 'CLARA'},\n",
        "                                                      na_action = 'ignore')\n",
        "traffic_df['Direction'] = traffic_df['Direction'].astype('string')\n",
        "traffic_df['Direction'].unique()"
      ],
      "execution_count": null,
      "outputs": [
        {
          "output_type": "execute_result",
          "data": {
            "text/plain": [
              "<StringArray>\n",
              "['EB', 'NB', 'SB', 'WB', 'DAR', 'CLOSED', 'PAX', 'CLARA']\n",
              "Length: 8, dtype: string"
            ]
          },
          "metadata": {
            "tags": []
          },
          "execution_count": 145
        }
      ]
    },
    {
      "cell_type": "code",
      "metadata": {
        "id": "MJLeTrlZkQmd",
        "colab_type": "code",
        "colab": {
          "base_uri": "https://localhost:8080/",
          "height": 327
        },
        "outputId": "4a0c8fac-5863-4bfa-b82a-2ef96625f13d"
      },
      "source": [
        "traffic_df.groupby(['Direction']).size().plot(kind='bar')"
      ],
      "execution_count": null,
      "outputs": [
        {
          "output_type": "execute_result",
          "data": {
            "text/plain": [
              "<matplotlib.axes._subplots.AxesSubplot at 0x7f5914039710>"
            ]
          },
          "metadata": {
            "tags": []
          },
          "execution_count": 146
        },
        {
          "output_type": "display_data",
          "data": {
            "image/png": "[encoded data removed]",
            "text/plain": [
              "<Figure size 432x288 with 1 Axes>"
            ]
          },
          "metadata": {
            "tags": [],
            "needs_background": "light"
          }
        }
      ]
    },
    {
      "cell_type": "code",
      "metadata": {
        "id": "lZD_5AIoxdCK",
        "colab_type": "code",
        "colab": {
          "base_uri": "https://localhost:8080/",
          "height": 304
        },
        "outputId": "ff71ed60-86f7-45a9-f52f-ccb860a9d4d4"
      },
      "source": [
        "direction_df = traffic_df[(traffic_df['Direction'] == 'EB') | (traffic_df['Direction'] == 'NB') |\n",
        "                          (traffic_df['Direction'] == 'SB') | (traffic_df['Direction'] == 'WB')]\n",
        "direction_df.groupby(['Direction']).size().plot(kind='bar')                "
      ],
      "execution_count": null,
      "outputs": [
        {
          "output_type": "execute_result",
          "data": {
            "text/plain": [
              "<matplotlib.axes._subplots.AxesSubplot at 0x7f5913bd8390>"
            ]
          },
          "metadata": {
            "tags": []
          },
          "execution_count": 147
        },
        {
          "output_type": "display_data",
          "data": {
            "image/png": "[encoded data removed]",
            "text/plain": [
              "<Figure size 432x288 with 1 Axes>"
            ]
          },
          "metadata": {
            "tags": [],
            "needs_background": "light"
          }
        }
      ]
    },
    {
      "cell_type": "markdown",
      "metadata": {
        "id": "3yBnaQgKwzXW",
        "colab_type": "text"
      },
      "source": [
        "-- add graphs and text"
      ]
    }
  ]
}